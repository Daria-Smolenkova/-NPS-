{
 "cells": [
  {
   "cell_type": "markdown",
   "id": "65f2ff2d",
   "metadata": {},
   "source": [
    "**Определение уровня лояльности клиента телекоммуникационной компании.**"
   ]
  },
  {
   "cell_type": "markdown",
   "id": "8ca7a5c9",
   "metadata": {},
   "source": [
    "**Описание проекта**"
   ]
  },
  {
   "cell_type": "markdown",
   "id": "e53fd2c4",
   "metadata": {},
   "source": [
    "Заказчик исследования - телекоммуникационная компания, работающая в СНГ. В данном исследовании нужно определить уровень потребительской лояльности клиентов из России."
   ]
  },
  {
   "cell_type": "markdown",
   "id": "27e22617",
   "metadata": {},
   "source": [
    "**Цель проекта:**"
   ]
  },
  {
   "cell_type": "markdown",
   "id": "e9b15688",
   "metadata": {},
   "source": [
    "Определить уровень потребительской лояльности среди клиентов из России."
   ]
  },
  {
   "cell_type": "markdown",
   "id": "143965d3",
   "metadata": {},
   "source": [
    "**Ход исследования:**"
   ]
  },
  {
   "cell_type": "markdown",
   "id": "cacc0fa5",
   "metadata": {},
   "source": [
    "• Шаг 1: Подключение к базе данных SQLite с файлом .db. Так же в таблицу требуется добавить и рассчитать столбцы nps_group и is_new. \n",
    "\n",
    "• Шаг 2: выполните предобработку данных, проанализировать таблицу на дубликаты, откорректировать типы данных в столбцах.\n",
    "\n",
    "• Шаг 3: выгрузка данных из таблицы для создания дашборда.\n",
    "\n",
    "• Шаг 4: Создание дашборда в Tableau для представления информации о NPS и его изменении в зависимости от пользовательских признаков.\n",
    "\n",
    "• Шаг 5: Ответы на вопросы с помощью дашборда, оформление в виде презентации. Публикация дашборда на сайте Tableau Public для проверки доступности.\n",
    "\n",
    "Я проверю данные на ошибки и оценю их влияние на исследование при подготовке к анализу в Tableau. Далее при помощи визуализации я отвечаю на вопросы проекта:\n",
    "- Как распределены участники опроса по возрасту и полу? Каких пользователей больше: новых или старых? Пользователи из каких городов активнее участвовали в опросе?\n",
    "- Какие группы пользователей наиболее лояльны к сервису? Какие менее?\n",
    "- Какой общий NPS среди всех опрошенных?\n",
    "- Как можно описать клиентов, которые относятся к группе cторонников (англ. promoters)?\n",
    "Конечные результаты оформляю в презентацию и делаю выводы о проведенной работе.\n",
    "\n",
    " "
   ]
  },
  {
   "cell_type": "markdown",
   "id": "ca71d239",
   "metadata": {},
   "source": [
    "## check"
   ]
  },
  {
   "cell_type": "markdown",
   "id": "f0189627",
   "metadata": {},
   "source": [
    "**Шаг 1. Загрузите данные и изучите общую информацию**"
   ]
  },
  {
   "cell_type": "markdown",
   "id": "4a54888a",
   "metadata": {},
   "source": [
    "На данном этапе я выгрузила данные при помощи SQL в одну таблицу. Так же я добавила в нее еще два столбца которые предварительно рассчитала. Столбец is_new хранит информацию является ли клиент новым, а новым клиент считается, если количество дней «жизни» составляет не более 365 дней. И столбец  nps_group, который поделит значения на следующие группы: \n",
    "9-10 баллов — «cторонники» (англ. promoters);\n",
    "7-8 баллов — «нейтралы» (англ. passives);\n",
    "0-6 баллов — «критики» (англ. detractors). \n",
    "\n",
    "Так же на данном этапе я добавляю столбец с полом разделяя всех клиентов женский, мужской и неопределенный пол."
   ]
  },
  {
   "cell_type": "code",
   "execution_count": 2,
   "id": "00a6eb52",
   "metadata": {},
   "outputs": [],
   "source": [
    "import os\n",
    "import pandas as pd\n",
    "from sqlalchemy import create_engine\n",
    "import numpy as np\n",
    "\n",
    "# путь к БД на вашем компьютере (например, в той же папке, что и тетрадь)\n",
    "path_to_db_local = 'telecomm_csi.db'\n",
    "# путь к БД на платформе\n",
    "path_to_db_platform = '/datasets/telecomm_csi.db'\n",
    "# итоговый путь к БД\n",
    "path_to_db = None\n",
    "\n",
    "# если путь на вашем компьютере ведёт к БД, то он становится итоговым\n",
    "if os.path.exists(path_to_db_local):\n",
    "    path_to_db = path_to_db_local\n",
    "# иначе: если путь на платформе ведёт к БД, то он становится итоговым\n",
    "elif os.path.exists(path_to_db_platform):\n",
    "    path_to_db = path_to_db_platform\n",
    "# иначе выводится сообщение о том, что файл не найден\n",
    "else:\n",
    "    raise Exception('Файл с базой данных SQLite не найден!')\n",
    "\n",
    "# если итоговый путь не пустой\n",
    "if path_to_db:\n",
    "    # то создаём подключение к базе\n",
    "    engine = create_engine(f'sqlite:///{path_to_db}', echo=False)\n",
    "    \n",
    "    # пример запроса\n",
    "    query = \"\"\"\n",
    "    SELECT u.*,\n",
    "       age_segment.title AS age_title,\n",
    "       traffic_segment.title AS traffic_title,\n",
    "       lifetime_segment.title AS lifetime_title,\n",
    "       l.country,\n",
    "       l.city,\n",
    "       CASE\n",
    "           WHEN lt_day <= 365 THEN 'новый'\n",
    "           ELSE 'старый'\n",
    "       END AS is_new,\n",
    "       CASE\n",
    "           WHEN nps_score BETWEEN 9 AND 10 THEN 'сторонники'\n",
    "           WHEN nps_score BETWEEN 7 AND 8 THEN 'нейтралы'\n",
    "           WHEN nps_score BETWEEN 0 AND 6 THEN 'критики'\n",
    "       END AS nps_group,\n",
    "       CASE \n",
    "           WHEN gender_segment = 1.0 THEN 'женский'\n",
    "           WHEN gender_segment = 0.0 THEN 'мужской'\n",
    "           WHEN gender_segment IS NULL THEN 'unknown'\n",
    "           ELSE 'unknown' \n",
    "       END AS gender\n",
    "       FROM user u\n",
    "LEFT JOIN age_segment ON u.age_gr_id = age_segment.age_gr_id\n",
    "LEFT JOIN traffic_segment ON u.tr_gr_id = traffic_segment.tr_gr_id\n",
    "LEFT JOIN lifetime_segment ON u.lt_gr_id = lifetime_segment.lt_gr_id\n",
    "INNER JOIN location l ON u.location_id = l.location_id;\n",
    "\"\"\"\n",
    "\n",
    "    # создаём датафрейм по данным запроса\n",
    "    data = pd.read_sql(query, engine) "
   ]
  },
  {
   "cell_type": "code",
   "execution_count": 3,
   "id": "36adbaa8",
   "metadata": {},
   "outputs": [
    {
     "data": {
      "text/html": [
       "<div>\n",
       "<style scoped>\n",
       "    .dataframe tbody tr th:only-of-type {\n",
       "        vertical-align: middle;\n",
       "    }\n",
       "\n",
       "    .dataframe tbody tr th {\n",
       "        vertical-align: top;\n",
       "    }\n",
       "\n",
       "    .dataframe thead th {\n",
       "        text-align: right;\n",
       "    }\n",
       "</style>\n",
       "<table border=\"1\" class=\"dataframe\">\n",
       "  <thead>\n",
       "    <tr style=\"text-align: right;\">\n",
       "      <th></th>\n",
       "      <th>user_id</th>\n",
       "      <th>lt_day</th>\n",
       "      <th>age</th>\n",
       "      <th>gender_segment</th>\n",
       "      <th>os_name</th>\n",
       "      <th>cpe_type_name</th>\n",
       "      <th>location_id</th>\n",
       "      <th>age_gr_id</th>\n",
       "      <th>tr_gr_id</th>\n",
       "      <th>lt_gr_id</th>\n",
       "      <th>nps_score</th>\n",
       "      <th>age_title</th>\n",
       "      <th>traffic_title</th>\n",
       "      <th>lifetime_title</th>\n",
       "      <th>country</th>\n",
       "      <th>city</th>\n",
       "      <th>is_new</th>\n",
       "      <th>nps_group</th>\n",
       "      <th>gender</th>\n",
       "    </tr>\n",
       "  </thead>\n",
       "  <tbody>\n",
       "    <tr>\n",
       "      <th>0</th>\n",
       "      <td>A001A2</td>\n",
       "      <td>2320</td>\n",
       "      <td>45.0</td>\n",
       "      <td>1.0</td>\n",
       "      <td>ANDROID</td>\n",
       "      <td>SMARTPHONE</td>\n",
       "      <td>55</td>\n",
       "      <td>5</td>\n",
       "      <td>5</td>\n",
       "      <td>8</td>\n",
       "      <td>10</td>\n",
       "      <td>05 45-54</td>\n",
       "      <td>04 1-5</td>\n",
       "      <td>08 36+</td>\n",
       "      <td>Россия</td>\n",
       "      <td>Уфа</td>\n",
       "      <td>старый</td>\n",
       "      <td>сторонники</td>\n",
       "      <td>женский</td>\n",
       "    </tr>\n",
       "    <tr>\n",
       "      <th>1</th>\n",
       "      <td>A001WF</td>\n",
       "      <td>2344</td>\n",
       "      <td>53.0</td>\n",
       "      <td>0.0</td>\n",
       "      <td>ANDROID</td>\n",
       "      <td>SMARTPHONE</td>\n",
       "      <td>21</td>\n",
       "      <td>5</td>\n",
       "      <td>5</td>\n",
       "      <td>8</td>\n",
       "      <td>10</td>\n",
       "      <td>05 45-54</td>\n",
       "      <td>04 1-5</td>\n",
       "      <td>08 36+</td>\n",
       "      <td>Россия</td>\n",
       "      <td>Киров</td>\n",
       "      <td>старый</td>\n",
       "      <td>сторонники</td>\n",
       "      <td>мужской</td>\n",
       "    </tr>\n",
       "    <tr>\n",
       "      <th>2</th>\n",
       "      <td>A003Q7</td>\n",
       "      <td>467</td>\n",
       "      <td>57.0</td>\n",
       "      <td>0.0</td>\n",
       "      <td>ANDROID</td>\n",
       "      <td>SMARTPHONE</td>\n",
       "      <td>28</td>\n",
       "      <td>6</td>\n",
       "      <td>9</td>\n",
       "      <td>6</td>\n",
       "      <td>10</td>\n",
       "      <td>06 55-64</td>\n",
       "      <td>08 20-25</td>\n",
       "      <td>06 13-24</td>\n",
       "      <td>Россия</td>\n",
       "      <td>Москва</td>\n",
       "      <td>старый</td>\n",
       "      <td>сторонники</td>\n",
       "      <td>мужской</td>\n",
       "    </tr>\n",
       "    <tr>\n",
       "      <th>3</th>\n",
       "      <td>A004TB</td>\n",
       "      <td>4190</td>\n",
       "      <td>44.0</td>\n",
       "      <td>1.0</td>\n",
       "      <td>IOS</td>\n",
       "      <td>SMARTPHONE</td>\n",
       "      <td>38</td>\n",
       "      <td>4</td>\n",
       "      <td>4</td>\n",
       "      <td>8</td>\n",
       "      <td>10</td>\n",
       "      <td>04 35-44</td>\n",
       "      <td>03 0.1-1</td>\n",
       "      <td>08 36+</td>\n",
       "      <td>Россия</td>\n",
       "      <td>РостовнаДону</td>\n",
       "      <td>старый</td>\n",
       "      <td>сторонники</td>\n",
       "      <td>женский</td>\n",
       "    </tr>\n",
       "    <tr>\n",
       "      <th>4</th>\n",
       "      <td>A004XT</td>\n",
       "      <td>1163</td>\n",
       "      <td>24.0</td>\n",
       "      <td>0.0</td>\n",
       "      <td>ANDROID</td>\n",
       "      <td>SMARTPHONE</td>\n",
       "      <td>39</td>\n",
       "      <td>2</td>\n",
       "      <td>6</td>\n",
       "      <td>8</td>\n",
       "      <td>10</td>\n",
       "      <td>02 16-24</td>\n",
       "      <td>05 5-10</td>\n",
       "      <td>08 36+</td>\n",
       "      <td>Россия</td>\n",
       "      <td>Рязань</td>\n",
       "      <td>старый</td>\n",
       "      <td>сторонники</td>\n",
       "      <td>мужской</td>\n",
       "    </tr>\n",
       "    <tr>\n",
       "      <th>...</th>\n",
       "      <td>...</td>\n",
       "      <td>...</td>\n",
       "      <td>...</td>\n",
       "      <td>...</td>\n",
       "      <td>...</td>\n",
       "      <td>...</td>\n",
       "      <td>...</td>\n",
       "      <td>...</td>\n",
       "      <td>...</td>\n",
       "      <td>...</td>\n",
       "      <td>...</td>\n",
       "      <td>...</td>\n",
       "      <td>...</td>\n",
       "      <td>...</td>\n",
       "      <td>...</td>\n",
       "      <td>...</td>\n",
       "      <td>...</td>\n",
       "      <td>...</td>\n",
       "      <td>...</td>\n",
       "    </tr>\n",
       "    <tr>\n",
       "      <th>502488</th>\n",
       "      <td>ZZZKLD</td>\n",
       "      <td>1249</td>\n",
       "      <td>54.0</td>\n",
       "      <td>1.0</td>\n",
       "      <td>ANDROID</td>\n",
       "      <td>SMARTPHONE</td>\n",
       "      <td>28</td>\n",
       "      <td>5</td>\n",
       "      <td>5</td>\n",
       "      <td>8</td>\n",
       "      <td>5</td>\n",
       "      <td>05 45-54</td>\n",
       "      <td>04 1-5</td>\n",
       "      <td>08 36+</td>\n",
       "      <td>Россия</td>\n",
       "      <td>Москва</td>\n",
       "      <td>старый</td>\n",
       "      <td>критики</td>\n",
       "      <td>женский</td>\n",
       "    </tr>\n",
       "    <tr>\n",
       "      <th>502489</th>\n",
       "      <td>ZZZLWY</td>\n",
       "      <td>129</td>\n",
       "      <td>31.0</td>\n",
       "      <td>0.0</td>\n",
       "      <td>ANDROID</td>\n",
       "      <td>SMARTPHONE</td>\n",
       "      <td>28</td>\n",
       "      <td>3</td>\n",
       "      <td>5</td>\n",
       "      <td>4</td>\n",
       "      <td>8</td>\n",
       "      <td>03 25-34</td>\n",
       "      <td>04 1-5</td>\n",
       "      <td>04 4-6</td>\n",
       "      <td>Россия</td>\n",
       "      <td>Москва</td>\n",
       "      <td>новый</td>\n",
       "      <td>нейтралы</td>\n",
       "      <td>мужской</td>\n",
       "    </tr>\n",
       "    <tr>\n",
       "      <th>502490</th>\n",
       "      <td>ZZZQ5F</td>\n",
       "      <td>522</td>\n",
       "      <td>36.0</td>\n",
       "      <td>0.0</td>\n",
       "      <td>ANDROID</td>\n",
       "      <td>SMARTPHONE</td>\n",
       "      <td>47</td>\n",
       "      <td>4</td>\n",
       "      <td>10</td>\n",
       "      <td>6</td>\n",
       "      <td>10</td>\n",
       "      <td>04 35-44</td>\n",
       "      <td>09 25-30</td>\n",
       "      <td>06 13-24</td>\n",
       "      <td>Россия</td>\n",
       "      <td>Сургут</td>\n",
       "      <td>старый</td>\n",
       "      <td>сторонники</td>\n",
       "      <td>мужской</td>\n",
       "    </tr>\n",
       "    <tr>\n",
       "      <th>502491</th>\n",
       "      <td>ZZZQ8E</td>\n",
       "      <td>2936</td>\n",
       "      <td>37.0</td>\n",
       "      <td>1.0</td>\n",
       "      <td>ANDROID</td>\n",
       "      <td>SMARTPHONE</td>\n",
       "      <td>53</td>\n",
       "      <td>4</td>\n",
       "      <td>18</td>\n",
       "      <td>8</td>\n",
       "      <td>9</td>\n",
       "      <td>04 35-44</td>\n",
       "      <td>17 65-70</td>\n",
       "      <td>08 36+</td>\n",
       "      <td>Россия</td>\n",
       "      <td>УланУдэ</td>\n",
       "      <td>старый</td>\n",
       "      <td>сторонники</td>\n",
       "      <td>женский</td>\n",
       "    </tr>\n",
       "    <tr>\n",
       "      <th>502492</th>\n",
       "      <td>ZZZYH0</td>\n",
       "      <td>2471</td>\n",
       "      <td>37.0</td>\n",
       "      <td>0.0</td>\n",
       "      <td>IOS</td>\n",
       "      <td>SMARTPHONE</td>\n",
       "      <td>40</td>\n",
       "      <td>4</td>\n",
       "      <td>7</td>\n",
       "      <td>8</td>\n",
       "      <td>2</td>\n",
       "      <td>04 35-44</td>\n",
       "      <td>06 10-15</td>\n",
       "      <td>08 36+</td>\n",
       "      <td>Россия</td>\n",
       "      <td>Самара</td>\n",
       "      <td>старый</td>\n",
       "      <td>критики</td>\n",
       "      <td>мужской</td>\n",
       "    </tr>\n",
       "  </tbody>\n",
       "</table>\n",
       "<p>502493 rows × 19 columns</p>\n",
       "</div>"
      ],
      "text/plain": [
       "       user_id  lt_day   age  gender_segment  os_name cpe_type_name  \\\n",
       "0       A001A2    2320  45.0             1.0  ANDROID    SMARTPHONE   \n",
       "1       A001WF    2344  53.0             0.0  ANDROID    SMARTPHONE   \n",
       "2       A003Q7     467  57.0             0.0  ANDROID    SMARTPHONE   \n",
       "3       A004TB    4190  44.0             1.0      IOS    SMARTPHONE   \n",
       "4       A004XT    1163  24.0             0.0  ANDROID    SMARTPHONE   \n",
       "...        ...     ...   ...             ...      ...           ...   \n",
       "502488  ZZZKLD    1249  54.0             1.0  ANDROID    SMARTPHONE   \n",
       "502489  ZZZLWY     129  31.0             0.0  ANDROID    SMARTPHONE   \n",
       "502490  ZZZQ5F     522  36.0             0.0  ANDROID    SMARTPHONE   \n",
       "502491  ZZZQ8E    2936  37.0             1.0  ANDROID    SMARTPHONE   \n",
       "502492  ZZZYH0    2471  37.0             0.0      IOS    SMARTPHONE   \n",
       "\n",
       "        location_id  age_gr_id  tr_gr_id  lt_gr_id  nps_score age_title  \\\n",
       "0                55          5         5         8         10  05 45-54   \n",
       "1                21          5         5         8         10  05 45-54   \n",
       "2                28          6         9         6         10  06 55-64   \n",
       "3                38          4         4         8         10  04 35-44   \n",
       "4                39          2         6         8         10  02 16-24   \n",
       "...             ...        ...       ...       ...        ...       ...   \n",
       "502488           28          5         5         8          5  05 45-54   \n",
       "502489           28          3         5         4          8  03 25-34   \n",
       "502490           47          4        10         6         10  04 35-44   \n",
       "502491           53          4        18         8          9  04 35-44   \n",
       "502492           40          4         7         8          2  04 35-44   \n",
       "\n",
       "       traffic_title lifetime_title country          city  is_new   nps_group  \\\n",
       "0             04 1-5         08 36+  Россия           Уфа  старый  сторонники   \n",
       "1             04 1-5         08 36+  Россия         Киров  старый  сторонники   \n",
       "2           08 20-25       06 13-24  Россия        Москва  старый  сторонники   \n",
       "3           03 0.1-1         08 36+  Россия  РостовнаДону  старый  сторонники   \n",
       "4            05 5-10         08 36+  Россия        Рязань  старый  сторонники   \n",
       "...              ...            ...     ...           ...     ...         ...   \n",
       "502488        04 1-5         08 36+  Россия        Москва  старый     критики   \n",
       "502489        04 1-5         04 4-6  Россия        Москва   новый    нейтралы   \n",
       "502490      09 25-30       06 13-24  Россия        Сургут  старый  сторонники   \n",
       "502491      17 65-70         08 36+  Россия       УланУдэ  старый  сторонники   \n",
       "502492      06 10-15         08 36+  Россия        Самара  старый     критики   \n",
       "\n",
       "         gender  \n",
       "0       женский  \n",
       "1       мужской  \n",
       "2       мужской  \n",
       "3       женский  \n",
       "4       мужской  \n",
       "...         ...  \n",
       "502488  женский  \n",
       "502489  мужской  \n",
       "502490  мужской  \n",
       "502491  женский  \n",
       "502492  мужской  \n",
       "\n",
       "[502493 rows x 19 columns]"
      ]
     },
     "metadata": {},
     "output_type": "display_data"
    }
   ],
   "source": [
    "display(data)"
   ]
  },
  {
   "cell_type": "markdown",
   "id": "48c3ef52",
   "metadata": {},
   "source": [
    "Далее я рассмотрю данные более детально и проведу предообработку и проверю на дубликаты."
   ]
  },
  {
   "cell_type": "code",
   "execution_count": 4,
   "id": "63a72e9b",
   "metadata": {},
   "outputs": [
    {
     "name": "stdout",
     "output_type": "stream",
     "text": [
      "<class 'pandas.core.frame.DataFrame'>\n",
      "RangeIndex: 502493 entries, 0 to 502492\n",
      "Data columns (total 19 columns):\n",
      " #   Column          Non-Null Count   Dtype  \n",
      "---  ------          --------------   -----  \n",
      " 0   user_id         502493 non-null  object \n",
      " 1   lt_day          502493 non-null  int64  \n",
      " 2   age             501939 non-null  float64\n",
      " 3   gender_segment  501192 non-null  float64\n",
      " 4   os_name         502493 non-null  object \n",
      " 5   cpe_type_name   502493 non-null  object \n",
      " 6   location_id     502493 non-null  int64  \n",
      " 7   age_gr_id       502493 non-null  int64  \n",
      " 8   tr_gr_id        502493 non-null  int64  \n",
      " 9   lt_gr_id        502493 non-null  int64  \n",
      " 10  nps_score       502493 non-null  int64  \n",
      " 11  age_title       502493 non-null  object \n",
      " 12  traffic_title   502493 non-null  object \n",
      " 13  lifetime_title  502493 non-null  object \n",
      " 14  country         502493 non-null  object \n",
      " 15  city            502493 non-null  object \n",
      " 16  is_new          502493 non-null  object \n",
      " 17  nps_group       502493 non-null  object \n",
      " 18  gender          502493 non-null  object \n",
      "dtypes: float64(2), int64(6), object(11)\n",
      "memory usage: 72.8+ MB\n"
     ]
    },
    {
     "data": {
      "text/html": [
       "<div>\n",
       "<style scoped>\n",
       "    .dataframe tbody tr th:only-of-type {\n",
       "        vertical-align: middle;\n",
       "    }\n",
       "\n",
       "    .dataframe tbody tr th {\n",
       "        vertical-align: top;\n",
       "    }\n",
       "\n",
       "    .dataframe thead th {\n",
       "        text-align: right;\n",
       "    }\n",
       "</style>\n",
       "<table border=\"1\" class=\"dataframe\">\n",
       "  <thead>\n",
       "    <tr style=\"text-align: right;\">\n",
       "      <th></th>\n",
       "      <th>user_id</th>\n",
       "      <th>lt_day</th>\n",
       "      <th>age</th>\n",
       "      <th>gender_segment</th>\n",
       "      <th>os_name</th>\n",
       "      <th>cpe_type_name</th>\n",
       "      <th>location_id</th>\n",
       "      <th>age_gr_id</th>\n",
       "      <th>tr_gr_id</th>\n",
       "      <th>lt_gr_id</th>\n",
       "      <th>nps_score</th>\n",
       "      <th>age_title</th>\n",
       "      <th>traffic_title</th>\n",
       "      <th>lifetime_title</th>\n",
       "      <th>country</th>\n",
       "      <th>city</th>\n",
       "      <th>is_new</th>\n",
       "      <th>nps_group</th>\n",
       "      <th>gender</th>\n",
       "    </tr>\n",
       "  </thead>\n",
       "  <tbody>\n",
       "    <tr>\n",
       "      <th>0</th>\n",
       "      <td>A001A2</td>\n",
       "      <td>2320</td>\n",
       "      <td>45.0</td>\n",
       "      <td>1.0</td>\n",
       "      <td>ANDROID</td>\n",
       "      <td>SMARTPHONE</td>\n",
       "      <td>55</td>\n",
       "      <td>5</td>\n",
       "      <td>5</td>\n",
       "      <td>8</td>\n",
       "      <td>10</td>\n",
       "      <td>05 45-54</td>\n",
       "      <td>04 1-5</td>\n",
       "      <td>08 36+</td>\n",
       "      <td>Россия</td>\n",
       "      <td>Уфа</td>\n",
       "      <td>старый</td>\n",
       "      <td>сторонники</td>\n",
       "      <td>женский</td>\n",
       "    </tr>\n",
       "    <tr>\n",
       "      <th>1</th>\n",
       "      <td>A001WF</td>\n",
       "      <td>2344</td>\n",
       "      <td>53.0</td>\n",
       "      <td>0.0</td>\n",
       "      <td>ANDROID</td>\n",
       "      <td>SMARTPHONE</td>\n",
       "      <td>21</td>\n",
       "      <td>5</td>\n",
       "      <td>5</td>\n",
       "      <td>8</td>\n",
       "      <td>10</td>\n",
       "      <td>05 45-54</td>\n",
       "      <td>04 1-5</td>\n",
       "      <td>08 36+</td>\n",
       "      <td>Россия</td>\n",
       "      <td>Киров</td>\n",
       "      <td>старый</td>\n",
       "      <td>сторонники</td>\n",
       "      <td>мужской</td>\n",
       "    </tr>\n",
       "    <tr>\n",
       "      <th>2</th>\n",
       "      <td>A003Q7</td>\n",
       "      <td>467</td>\n",
       "      <td>57.0</td>\n",
       "      <td>0.0</td>\n",
       "      <td>ANDROID</td>\n",
       "      <td>SMARTPHONE</td>\n",
       "      <td>28</td>\n",
       "      <td>6</td>\n",
       "      <td>9</td>\n",
       "      <td>6</td>\n",
       "      <td>10</td>\n",
       "      <td>06 55-64</td>\n",
       "      <td>08 20-25</td>\n",
       "      <td>06 13-24</td>\n",
       "      <td>Россия</td>\n",
       "      <td>Москва</td>\n",
       "      <td>старый</td>\n",
       "      <td>сторонники</td>\n",
       "      <td>мужской</td>\n",
       "    </tr>\n",
       "    <tr>\n",
       "      <th>3</th>\n",
       "      <td>A004TB</td>\n",
       "      <td>4190</td>\n",
       "      <td>44.0</td>\n",
       "      <td>1.0</td>\n",
       "      <td>IOS</td>\n",
       "      <td>SMARTPHONE</td>\n",
       "      <td>38</td>\n",
       "      <td>4</td>\n",
       "      <td>4</td>\n",
       "      <td>8</td>\n",
       "      <td>10</td>\n",
       "      <td>04 35-44</td>\n",
       "      <td>03 0.1-1</td>\n",
       "      <td>08 36+</td>\n",
       "      <td>Россия</td>\n",
       "      <td>РостовнаДону</td>\n",
       "      <td>старый</td>\n",
       "      <td>сторонники</td>\n",
       "      <td>женский</td>\n",
       "    </tr>\n",
       "    <tr>\n",
       "      <th>4</th>\n",
       "      <td>A004XT</td>\n",
       "      <td>1163</td>\n",
       "      <td>24.0</td>\n",
       "      <td>0.0</td>\n",
       "      <td>ANDROID</td>\n",
       "      <td>SMARTPHONE</td>\n",
       "      <td>39</td>\n",
       "      <td>2</td>\n",
       "      <td>6</td>\n",
       "      <td>8</td>\n",
       "      <td>10</td>\n",
       "      <td>02 16-24</td>\n",
       "      <td>05 5-10</td>\n",
       "      <td>08 36+</td>\n",
       "      <td>Россия</td>\n",
       "      <td>Рязань</td>\n",
       "      <td>старый</td>\n",
       "      <td>сторонники</td>\n",
       "      <td>мужской</td>\n",
       "    </tr>\n",
       "  </tbody>\n",
       "</table>\n",
       "</div>"
      ],
      "text/plain": [
       "  user_id  lt_day   age  gender_segment  os_name cpe_type_name  location_id  \\\n",
       "0  A001A2    2320  45.0             1.0  ANDROID    SMARTPHONE           55   \n",
       "1  A001WF    2344  53.0             0.0  ANDROID    SMARTPHONE           21   \n",
       "2  A003Q7     467  57.0             0.0  ANDROID    SMARTPHONE           28   \n",
       "3  A004TB    4190  44.0             1.0      IOS    SMARTPHONE           38   \n",
       "4  A004XT    1163  24.0             0.0  ANDROID    SMARTPHONE           39   \n",
       "\n",
       "   age_gr_id  tr_gr_id  lt_gr_id  nps_score age_title traffic_title  \\\n",
       "0          5         5         8         10  05 45-54        04 1-5   \n",
       "1          5         5         8         10  05 45-54        04 1-5   \n",
       "2          6         9         6         10  06 55-64      08 20-25   \n",
       "3          4         4         8         10  04 35-44      03 0.1-1   \n",
       "4          2         6         8         10  02 16-24       05 5-10   \n",
       "\n",
       "  lifetime_title country          city  is_new   nps_group   gender  \n",
       "0         08 36+  Россия           Уфа  старый  сторонники  женский  \n",
       "1         08 36+  Россия         Киров  старый  сторонники  мужской  \n",
       "2       06 13-24  Россия        Москва  старый  сторонники  мужской  \n",
       "3         08 36+  Россия  РостовнаДону  старый  сторонники  женский  \n",
       "4         08 36+  Россия        Рязань  старый  сторонники  мужской  "
      ]
     },
     "execution_count": 4,
     "metadata": {},
     "output_type": "execute_result"
    }
   ],
   "source": [
    "data.info()\n",
    "data.head()"
   ]
  },
  {
   "cell_type": "markdown",
   "id": "ae2a5411",
   "metadata": {},
   "source": [
    "На данном этапе можно заметить, что колонка с названиями городов выглядит не совсем корректно, так же я хочу заменить тип данных в столбце 'agee'."
   ]
  },
  {
   "cell_type": "markdown",
   "id": "d7876624",
   "metadata": {},
   "source": [
    "## check"
   ]
  },
  {
   "cell_type": "markdown",
   "id": "27944aaf",
   "metadata": {},
   "source": [
    "**Шаг 2. Выполните предобработку данных**"
   ]
  },
  {
   "cell_type": "code",
   "execution_count": 5,
   "id": "2f3967b1",
   "metadata": {},
   "outputs": [
    {
     "data": {
      "text/plain": [
       "user_id              0\n",
       "lt_day               0\n",
       "age                554\n",
       "gender_segment    1301\n",
       "os_name              0\n",
       "cpe_type_name        0\n",
       "location_id          0\n",
       "age_gr_id            0\n",
       "tr_gr_id             0\n",
       "lt_gr_id             0\n",
       "nps_score            0\n",
       "age_title            0\n",
       "traffic_title        0\n",
       "lifetime_title       0\n",
       "country              0\n",
       "city                 0\n",
       "is_new               0\n",
       "nps_group            0\n",
       "gender               0\n",
       "dtype: int64"
      ]
     },
     "execution_count": 5,
     "metadata": {},
     "output_type": "execute_result"
    }
   ],
   "source": [
    "data.isnull().sum()"
   ]
  },
  {
   "cell_type": "markdown",
   "id": "c56f32e2",
   "metadata": {},
   "source": [
    "Основные пропуски в столбцах gender_segment и age, возможно клиент просто пропустил эту строку при заполнении данных. "
   ]
  },
  {
   "cell_type": "code",
   "execution_count": 6,
   "id": "80744f70",
   "metadata": {},
   "outputs": [],
   "source": [
    "data = data.drop(['location_id', 'age_gr_id', 'tr_gr_id', 'lt_gr_id'], axis=1)"
   ]
  },
  {
   "cell_type": "markdown",
   "id": "4eaa64a0",
   "metadata": {},
   "source": [
    "На данном этапе я удаляю основные ключи, по которым ранее я объединяла таблицы."
   ]
  },
  {
   "cell_type": "markdown",
   "id": "5bca446d",
   "metadata": {},
   "source": [
    "Проверка на дубликаты"
   ]
  },
  {
   "cell_type": "code",
   "execution_count": 7,
   "id": "deafdc7a",
   "metadata": {},
   "outputs": [
    {
     "data": {
      "text/plain": [
       "0"
      ]
     },
     "execution_count": 7,
     "metadata": {},
     "output_type": "execute_result"
    }
   ],
   "source": [
    "data.duplicated().sum()"
   ]
  },
  {
   "cell_type": "markdown",
   "id": "1a63b151",
   "metadata": {},
   "source": [
    "Явные дубликаты отсутствуют, стоит проверить таблицу на неявные дубли."
   ]
  },
  {
   "cell_type": "code",
   "execution_count": 8,
   "id": "ed959e70",
   "metadata": {},
   "outputs": [
    {
     "data": {
      "text/plain": [
       "array(['Россия'], dtype=object)"
      ]
     },
     "execution_count": 8,
     "metadata": {},
     "output_type": "execute_result"
    }
   ],
   "source": [
    "data['country'].unique()"
   ]
  },
  {
   "cell_type": "code",
   "execution_count": 9,
   "id": "16dbd9e2",
   "metadata": {},
   "outputs": [
    {
     "data": {
      "text/plain": [
       "array(['Уфа', 'Киров', 'Москва', 'РостовнаДону', 'Рязань', 'Омск',\n",
       "       'СанктПетербург', 'Волгоград', 'Тольятти', 'Казань', 'Самара',\n",
       "       'Красноярск', 'Екатеринбург', 'Калуга', 'Краснодар', 'Иркутск',\n",
       "       'Пермь', 'Владимир', 'Ижевск', 'Тюмень', 'Оренбург',\n",
       "       'НижнийНовгород', 'Брянск', 'Челябинск', 'Астрахань', 'Сургут',\n",
       "       'Тверь', 'Новосибирск', 'НабережныеЧелны', 'Махачкала', 'Воронеж',\n",
       "       'Курск', 'Владивосток', 'Балашиха', 'Пенза', 'Калининград', 'Тула',\n",
       "       'Саратов', 'Кемерово', 'Белгород', 'Барнаул', 'Чебоксары',\n",
       "       'Архангельск', 'Томск', 'Ярославль', 'Ульяновск', 'Хабаровск',\n",
       "       'Грозный', 'Ставрополь', 'Липецк', 'Новокузнецк', 'Якутск',\n",
       "       'УланУдэ', 'Сочи', 'Иваново', 'НижнийТагил', 'Смоленск',\n",
       "       'Волжский', 'Магнитогорск', 'Чита', 'Череповец', 'Саранск'],\n",
       "      dtype=object)"
      ]
     },
     "execution_count": 9,
     "metadata": {},
     "output_type": "execute_result"
    }
   ],
   "source": [
    "data['city'].unique()"
   ]
  },
  {
   "cell_type": "code",
   "execution_count": 10,
   "id": "4f016c91",
   "metadata": {},
   "outputs": [],
   "source": [
    "replacement_dict = {\n",
    "    'РостовнаДону': 'Ростов-на-Дону',\n",
    "    'СанктПетербург': 'Санкт-Петербург',\n",
    "    'УланУдэ': 'Улан-Удэ',\n",
    "    'НижнийНовгород': 'Нижний Новгород',\n",
    "    'НабережныеЧелны': 'Набережные Челны',\n",
    "    'НижнийТагил': 'Нижний Тагил'\n",
    "}\n",
    "\n",
    "data['city'] = data['city'].replace(replacement_dict, regex=True)"
   ]
  },
  {
   "cell_type": "code",
   "execution_count": 12,
   "id": "aac3d7be",
   "metadata": {
    "scrolled": true
   },
   "outputs": [
    {
     "data": {
      "text/plain": [
       "array(['Уфа', 'Киров', 'Москва', 'Ростов-на-Дону', 'Рязань', 'Омск',\n",
       "       'Санкт-Петербург', 'Волгоград', 'Тольятти', 'Казань', 'Самара',\n",
       "       'Красноярск', 'Екатеринбург', 'Калуга', 'Краснодар', 'Иркутск',\n",
       "       'Пермь', 'Владимир', 'Ижевск', 'Тюмень', 'Оренбург',\n",
       "       'Нижний Новгород', 'Брянск', 'Челябинск', 'Астрахань', 'Сургут',\n",
       "       'Тверь', 'Новосибирск', 'Набережные Челны', 'Махачкала', 'Воронеж',\n",
       "       'Курск', 'Владивосток', 'Балашиха', 'Пенза', 'Калининград', 'Тула',\n",
       "       'Саратов', 'Кемерово', 'Белгород', 'Барнаул', 'Чебоксары',\n",
       "       'Архангельск', 'Томск', 'Ярославль', 'Ульяновск', 'Хабаровск',\n",
       "       'Грозный', 'Ставрополь', 'Липецк', 'Новокузнецк', 'Якутск',\n",
       "       'Улан-Удэ', 'Сочи', 'Иваново', 'Нижний Тагил', 'Смоленск',\n",
       "       'Волжский', 'Магнитогорск', 'Чита', 'Череповец', 'Саранск'],\n",
       "      dtype=object)"
      ]
     },
     "execution_count": 12,
     "metadata": {},
     "output_type": "execute_result"
    }
   ],
   "source": [
    "data['city'].unique()"
   ]
  },
  {
   "cell_type": "markdown",
   "id": "a3deb80d",
   "metadata": {},
   "source": [
    "На данном этапе я привела названия городов к читаемому и правильному виду."
   ]
  },
  {
   "cell_type": "code",
   "execution_count": 13,
   "id": "7e8bcf65",
   "metadata": {},
   "outputs": [
    {
     "data": {
      "text/plain": [
       "array([45., 53., 57., 44., 24., 42., 35., 36., 54., 39., 21., 27., 60.,\n",
       "       34., 47., 37., 43., 33., 31., 25., 51., 28., 41., 40., 46., 48.,\n",
       "       32., 30., 52., 59., 26., 50., 62., 29., 55., 22., 38., 56., 23.,\n",
       "       49., 66., 74., 75., 17., 65., 64., 69., 58., 20., 19., 80., 70.,\n",
       "       81., 63., 67., 68., 72., 15., 79., 18., 73., nan, 14., 71., 61.,\n",
       "       16., 77., 13., 76., 10., 78., 12., 82., 11., 83., 89., 84., 85.,\n",
       "       87., 86.])"
      ]
     },
     "execution_count": 13,
     "metadata": {},
     "output_type": "execute_result"
    }
   ],
   "source": [
    "data['age'].unique()"
   ]
  },
  {
   "cell_type": "code",
   "execution_count": 14,
   "id": "f34f86d8",
   "metadata": {},
   "outputs": [],
   "source": [
    "data['age'] = data['age'].fillna(-1)\n",
    "\n",
    "data = data.replace([np.inf, -np.inf], np.nan).dropna(subset=['age'])\n",
    "\n",
    "data['age'] = data['age'].astype(int)"
   ]
  },
  {
   "cell_type": "code",
   "execution_count": 15,
   "id": "a06fb7ac",
   "metadata": {},
   "outputs": [
    {
     "data": {
      "text/html": [
       "<div>\n",
       "<style scoped>\n",
       "    .dataframe tbody tr th:only-of-type {\n",
       "        vertical-align: middle;\n",
       "    }\n",
       "\n",
       "    .dataframe tbody tr th {\n",
       "        vertical-align: top;\n",
       "    }\n",
       "\n",
       "    .dataframe thead th {\n",
       "        text-align: right;\n",
       "    }\n",
       "</style>\n",
       "<table border=\"1\" class=\"dataframe\">\n",
       "  <thead>\n",
       "    <tr style=\"text-align: right;\">\n",
       "      <th></th>\n",
       "      <th>user_id</th>\n",
       "      <th>lt_day</th>\n",
       "      <th>age</th>\n",
       "      <th>gender_segment</th>\n",
       "      <th>os_name</th>\n",
       "      <th>cpe_type_name</th>\n",
       "      <th>nps_score</th>\n",
       "      <th>age_title</th>\n",
       "      <th>traffic_title</th>\n",
       "      <th>lifetime_title</th>\n",
       "      <th>country</th>\n",
       "      <th>city</th>\n",
       "      <th>is_new</th>\n",
       "      <th>nps_group</th>\n",
       "      <th>gender</th>\n",
       "    </tr>\n",
       "  </thead>\n",
       "  <tbody>\n",
       "    <tr>\n",
       "      <th>0</th>\n",
       "      <td>A001A2</td>\n",
       "      <td>2320</td>\n",
       "      <td>45</td>\n",
       "      <td>1.0</td>\n",
       "      <td>ANDROID</td>\n",
       "      <td>SMARTPHONE</td>\n",
       "      <td>10</td>\n",
       "      <td>05 45-54</td>\n",
       "      <td>04 1-5</td>\n",
       "      <td>08 36+</td>\n",
       "      <td>Россия</td>\n",
       "      <td>Уфа</td>\n",
       "      <td>старый</td>\n",
       "      <td>сторонники</td>\n",
       "      <td>женский</td>\n",
       "    </tr>\n",
       "    <tr>\n",
       "      <th>1</th>\n",
       "      <td>A001WF</td>\n",
       "      <td>2344</td>\n",
       "      <td>53</td>\n",
       "      <td>0.0</td>\n",
       "      <td>ANDROID</td>\n",
       "      <td>SMARTPHONE</td>\n",
       "      <td>10</td>\n",
       "      <td>05 45-54</td>\n",
       "      <td>04 1-5</td>\n",
       "      <td>08 36+</td>\n",
       "      <td>Россия</td>\n",
       "      <td>Киров</td>\n",
       "      <td>старый</td>\n",
       "      <td>сторонники</td>\n",
       "      <td>мужской</td>\n",
       "    </tr>\n",
       "    <tr>\n",
       "      <th>2</th>\n",
       "      <td>A003Q7</td>\n",
       "      <td>467</td>\n",
       "      <td>57</td>\n",
       "      <td>0.0</td>\n",
       "      <td>ANDROID</td>\n",
       "      <td>SMARTPHONE</td>\n",
       "      <td>10</td>\n",
       "      <td>06 55-64</td>\n",
       "      <td>08 20-25</td>\n",
       "      <td>06 13-24</td>\n",
       "      <td>Россия</td>\n",
       "      <td>Москва</td>\n",
       "      <td>старый</td>\n",
       "      <td>сторонники</td>\n",
       "      <td>мужской</td>\n",
       "    </tr>\n",
       "    <tr>\n",
       "      <th>3</th>\n",
       "      <td>A004TB</td>\n",
       "      <td>4190</td>\n",
       "      <td>44</td>\n",
       "      <td>1.0</td>\n",
       "      <td>IOS</td>\n",
       "      <td>SMARTPHONE</td>\n",
       "      <td>10</td>\n",
       "      <td>04 35-44</td>\n",
       "      <td>03 0.1-1</td>\n",
       "      <td>08 36+</td>\n",
       "      <td>Россия</td>\n",
       "      <td>Ростов-на-Дону</td>\n",
       "      <td>старый</td>\n",
       "      <td>сторонники</td>\n",
       "      <td>женский</td>\n",
       "    </tr>\n",
       "    <tr>\n",
       "      <th>4</th>\n",
       "      <td>A004XT</td>\n",
       "      <td>1163</td>\n",
       "      <td>24</td>\n",
       "      <td>0.0</td>\n",
       "      <td>ANDROID</td>\n",
       "      <td>SMARTPHONE</td>\n",
       "      <td>10</td>\n",
       "      <td>02 16-24</td>\n",
       "      <td>05 5-10</td>\n",
       "      <td>08 36+</td>\n",
       "      <td>Россия</td>\n",
       "      <td>Рязань</td>\n",
       "      <td>старый</td>\n",
       "      <td>сторонники</td>\n",
       "      <td>мужской</td>\n",
       "    </tr>\n",
       "    <tr>\n",
       "      <th>...</th>\n",
       "      <td>...</td>\n",
       "      <td>...</td>\n",
       "      <td>...</td>\n",
       "      <td>...</td>\n",
       "      <td>...</td>\n",
       "      <td>...</td>\n",
       "      <td>...</td>\n",
       "      <td>...</td>\n",
       "      <td>...</td>\n",
       "      <td>...</td>\n",
       "      <td>...</td>\n",
       "      <td>...</td>\n",
       "      <td>...</td>\n",
       "      <td>...</td>\n",
       "      <td>...</td>\n",
       "    </tr>\n",
       "    <tr>\n",
       "      <th>502488</th>\n",
       "      <td>ZZZKLD</td>\n",
       "      <td>1249</td>\n",
       "      <td>54</td>\n",
       "      <td>1.0</td>\n",
       "      <td>ANDROID</td>\n",
       "      <td>SMARTPHONE</td>\n",
       "      <td>5</td>\n",
       "      <td>05 45-54</td>\n",
       "      <td>04 1-5</td>\n",
       "      <td>08 36+</td>\n",
       "      <td>Россия</td>\n",
       "      <td>Москва</td>\n",
       "      <td>старый</td>\n",
       "      <td>критики</td>\n",
       "      <td>женский</td>\n",
       "    </tr>\n",
       "    <tr>\n",
       "      <th>502489</th>\n",
       "      <td>ZZZLWY</td>\n",
       "      <td>129</td>\n",
       "      <td>31</td>\n",
       "      <td>0.0</td>\n",
       "      <td>ANDROID</td>\n",
       "      <td>SMARTPHONE</td>\n",
       "      <td>8</td>\n",
       "      <td>03 25-34</td>\n",
       "      <td>04 1-5</td>\n",
       "      <td>04 4-6</td>\n",
       "      <td>Россия</td>\n",
       "      <td>Москва</td>\n",
       "      <td>новый</td>\n",
       "      <td>нейтралы</td>\n",
       "      <td>мужской</td>\n",
       "    </tr>\n",
       "    <tr>\n",
       "      <th>502490</th>\n",
       "      <td>ZZZQ5F</td>\n",
       "      <td>522</td>\n",
       "      <td>36</td>\n",
       "      <td>0.0</td>\n",
       "      <td>ANDROID</td>\n",
       "      <td>SMARTPHONE</td>\n",
       "      <td>10</td>\n",
       "      <td>04 35-44</td>\n",
       "      <td>09 25-30</td>\n",
       "      <td>06 13-24</td>\n",
       "      <td>Россия</td>\n",
       "      <td>Сургут</td>\n",
       "      <td>старый</td>\n",
       "      <td>сторонники</td>\n",
       "      <td>мужской</td>\n",
       "    </tr>\n",
       "    <tr>\n",
       "      <th>502491</th>\n",
       "      <td>ZZZQ8E</td>\n",
       "      <td>2936</td>\n",
       "      <td>37</td>\n",
       "      <td>1.0</td>\n",
       "      <td>ANDROID</td>\n",
       "      <td>SMARTPHONE</td>\n",
       "      <td>9</td>\n",
       "      <td>04 35-44</td>\n",
       "      <td>17 65-70</td>\n",
       "      <td>08 36+</td>\n",
       "      <td>Россия</td>\n",
       "      <td>Улан-Удэ</td>\n",
       "      <td>старый</td>\n",
       "      <td>сторонники</td>\n",
       "      <td>женский</td>\n",
       "    </tr>\n",
       "    <tr>\n",
       "      <th>502492</th>\n",
       "      <td>ZZZYH0</td>\n",
       "      <td>2471</td>\n",
       "      <td>37</td>\n",
       "      <td>0.0</td>\n",
       "      <td>IOS</td>\n",
       "      <td>SMARTPHONE</td>\n",
       "      <td>2</td>\n",
       "      <td>04 35-44</td>\n",
       "      <td>06 10-15</td>\n",
       "      <td>08 36+</td>\n",
       "      <td>Россия</td>\n",
       "      <td>Самара</td>\n",
       "      <td>старый</td>\n",
       "      <td>критики</td>\n",
       "      <td>мужской</td>\n",
       "    </tr>\n",
       "  </tbody>\n",
       "</table>\n",
       "<p>502493 rows × 15 columns</p>\n",
       "</div>"
      ],
      "text/plain": [
       "       user_id  lt_day  age  gender_segment  os_name cpe_type_name  nps_score  \\\n",
       "0       A001A2    2320   45             1.0  ANDROID    SMARTPHONE         10   \n",
       "1       A001WF    2344   53             0.0  ANDROID    SMARTPHONE         10   \n",
       "2       A003Q7     467   57             0.0  ANDROID    SMARTPHONE         10   \n",
       "3       A004TB    4190   44             1.0      IOS    SMARTPHONE         10   \n",
       "4       A004XT    1163   24             0.0  ANDROID    SMARTPHONE         10   \n",
       "...        ...     ...  ...             ...      ...           ...        ...   \n",
       "502488  ZZZKLD    1249   54             1.0  ANDROID    SMARTPHONE          5   \n",
       "502489  ZZZLWY     129   31             0.0  ANDROID    SMARTPHONE          8   \n",
       "502490  ZZZQ5F     522   36             0.0  ANDROID    SMARTPHONE         10   \n",
       "502491  ZZZQ8E    2936   37             1.0  ANDROID    SMARTPHONE          9   \n",
       "502492  ZZZYH0    2471   37             0.0      IOS    SMARTPHONE          2   \n",
       "\n",
       "       age_title traffic_title lifetime_title country            city  is_new  \\\n",
       "0       05 45-54        04 1-5         08 36+  Россия             Уфа  старый   \n",
       "1       05 45-54        04 1-5         08 36+  Россия           Киров  старый   \n",
       "2       06 55-64      08 20-25       06 13-24  Россия          Москва  старый   \n",
       "3       04 35-44      03 0.1-1         08 36+  Россия  Ростов-на-Дону  старый   \n",
       "4       02 16-24       05 5-10         08 36+  Россия          Рязань  старый   \n",
       "...          ...           ...            ...     ...             ...     ...   \n",
       "502488  05 45-54        04 1-5         08 36+  Россия          Москва  старый   \n",
       "502489  03 25-34        04 1-5         04 4-6  Россия          Москва   новый   \n",
       "502490  04 35-44      09 25-30       06 13-24  Россия          Сургут  старый   \n",
       "502491  04 35-44      17 65-70         08 36+  Россия        Улан-Удэ  старый   \n",
       "502492  04 35-44      06 10-15         08 36+  Россия          Самара  старый   \n",
       "\n",
       "         nps_group   gender  \n",
       "0       сторонники  женский  \n",
       "1       сторонники  мужской  \n",
       "2       сторонники  мужской  \n",
       "3       сторонники  женский  \n",
       "4       сторонники  мужской  \n",
       "...            ...      ...  \n",
       "502488     критики  женский  \n",
       "502489    нейтралы  мужской  \n",
       "502490  сторонники  мужской  \n",
       "502491  сторонники  женский  \n",
       "502492     критики  мужской  \n",
       "\n",
       "[502493 rows x 15 columns]"
      ]
     },
     "metadata": {},
     "output_type": "display_data"
    }
   ],
   "source": [
    "display(data)"
   ]
  },
  {
   "cell_type": "code",
   "execution_count": 16,
   "id": "4ae551c3",
   "metadata": {},
   "outputs": [
    {
     "name": "stdout",
     "output_type": "stream",
     "text": [
      "Файл успешно сохранен.\n"
     ]
    }
   ],
   "source": [
    "desktop_path = 'C:\\\\nps.csv'\n",
    "\n",
    "try:\n",
    "    data.to_csv(desktop_path, index=False)\n",
    "    print(\"Файл успешно сохранен.\")\n",
    "except Exception as e:\n",
    "    print(f\"Произошла ошибка при сохранении файла: {e}\")"
   ]
  },
  {
   "cell_type": "markdown",
   "id": "183f7e5f",
   "metadata": {},
   "source": [
    "## check"
   ]
  },
  {
   "cell_type": "markdown",
   "id": "9dd4475c",
   "metadata": {},
   "source": [
    "Ссылка на проек"
   ]
  },
  {
   "cell_type": "markdown",
   "id": "b1e6cee1",
   "metadata": {},
   "source": [
    "https://public.tableau.com/shared/C39QKJQF4?:display_count=n&:origin=viz_share_link"
   ]
  },
  {
   "cell_type": "code",
   "execution_count": null,
   "id": "76c2e0a1",
   "metadata": {},
   "outputs": [],
   "source": []
  }
 ],
 "metadata": {
  "ExecuteTimeLog": [
   {
    "duration": 526,
    "start_time": "2023-11-27T18:26:27.633Z"
   },
   {
    "duration": 93,
    "start_time": "2023-11-27T18:26:29.599Z"
   },
   {
    "duration": 2,
    "start_time": "2023-11-27T18:26:31.823Z"
   },
   {
    "duration": 460,
    "start_time": "2023-11-27T18:26:34.799Z"
   },
   {
    "duration": 2,
    "start_time": "2023-11-27T18:29:17.892Z"
   },
   {
    "duration": 3,
    "start_time": "2023-11-27T18:29:22.689Z"
   },
   {
    "duration": 4156,
    "start_time": "2023-11-27T18:29:24.800Z"
   },
   {
    "duration": 2472,
    "start_time": "2023-11-27T18:29:33.203Z"
   },
   {
    "duration": 504,
    "start_time": "2023-11-27T18:30:51.539Z"
   },
   {
    "duration": 70,
    "start_time": "2023-11-27T18:30:52.045Z"
   },
   {
    "duration": 3424,
    "start_time": "2023-11-27T18:30:52.117Z"
   },
   {
    "duration": 2465,
    "start_time": "2023-11-27T18:30:55.543Z"
   },
   {
    "duration": 91,
    "start_time": "2023-11-27T18:56:11.679Z"
   },
   {
    "duration": 81,
    "start_time": "2023-11-27T18:56:39.292Z"
   },
   {
    "duration": 3,
    "start_time": "2023-11-27T19:19:52.691Z"
   },
   {
    "duration": 3,
    "start_time": "2023-11-27T19:19:54.580Z"
   },
   {
    "duration": 56,
    "start_time": "2023-11-27T19:19:56.011Z"
   },
   {
    "duration": 382,
    "start_time": "2023-11-27T19:19:57.334Z"
   },
   {
    "duration": 78,
    "start_time": "2023-11-27T19:20:59.620Z"
   },
   {
    "duration": 99,
    "start_time": "2023-11-27T19:28:08.071Z"
   },
   {
    "duration": 79,
    "start_time": "2023-11-27T19:28:40.601Z"
   },
   {
    "duration": 526,
    "start_time": "2023-11-27T19:28:46.928Z"
   },
   {
    "duration": 3,
    "start_time": "2023-11-27T19:28:47.456Z"
   },
   {
    "duration": 79,
    "start_time": "2023-11-27T19:28:47.460Z"
   },
   {
    "duration": 115,
    "start_time": "2023-11-27T19:28:47.541Z"
   },
   {
    "duration": 0,
    "start_time": "2023-11-27T19:28:47.658Z"
   },
   {
    "duration": 90,
    "start_time": "2023-11-27T19:30:01.674Z"
   },
   {
    "duration": 74,
    "start_time": "2023-11-27T19:32:10.402Z"
   },
   {
    "duration": 71,
    "start_time": "2023-11-27T19:32:26.932Z"
   },
   {
    "duration": 72,
    "start_time": "2023-11-27T19:32:34.882Z"
   },
   {
    "duration": 543,
    "start_time": "2023-11-27T19:34:39.894Z"
   },
   {
    "duration": 2,
    "start_time": "2023-11-27T19:34:40.439Z"
   },
   {
    "duration": 73,
    "start_time": "2023-11-27T19:34:40.442Z"
   },
   {
    "duration": 72,
    "start_time": "2023-11-27T19:34:40.517Z"
   },
   {
    "duration": 0,
    "start_time": "2023-11-27T19:34:40.591Z"
   },
   {
    "duration": 0,
    "start_time": "2023-11-27T19:34:40.592Z"
   },
   {
    "duration": 0,
    "start_time": "2023-11-27T19:34:40.593Z"
   },
   {
    "duration": 98,
    "start_time": "2023-11-27T19:34:43.697Z"
   },
   {
    "duration": 84,
    "start_time": "2023-11-27T19:34:45.919Z"
   },
   {
    "duration": 74,
    "start_time": "2023-11-27T19:35:43.196Z"
   },
   {
    "duration": 2,
    "start_time": "2023-11-27T19:35:49.755Z"
   },
   {
    "duration": 64,
    "start_time": "2023-11-27T19:35:51.678Z"
   },
   {
    "duration": 70,
    "start_time": "2023-11-27T19:35:53.813Z"
   },
   {
    "duration": 62,
    "start_time": "2023-11-27T19:46:19.798Z"
   },
   {
    "duration": 77,
    "start_time": "2023-11-27T19:46:24.163Z"
   },
   {
    "duration": 6677,
    "start_time": "2023-11-27T19:46:53.240Z"
   },
   {
    "duration": 98,
    "start_time": "2023-11-27T19:47:00.326Z"
   },
   {
    "duration": 7183,
    "start_time": "2023-11-27T19:48:27.223Z"
   },
   {
    "duration": 668,
    "start_time": "2023-11-27T19:48:40.722Z"
   },
   {
    "duration": 4130,
    "start_time": "2023-11-27T19:50:08.345Z"
   },
   {
    "duration": 17,
    "start_time": "2023-11-27T19:50:12.477Z"
   },
   {
    "duration": 68,
    "start_time": "2023-11-27T19:56:27.382Z"
   },
   {
    "duration": 6,
    "start_time": "2023-11-27T19:56:43.182Z"
   },
   {
    "duration": 4775,
    "start_time": "2023-11-27T20:02:04.418Z"
   },
   {
    "duration": 31,
    "start_time": "2023-11-27T20:02:09.195Z"
   },
   {
    "duration": 4174,
    "start_time": "2023-11-27T20:03:01.819Z"
   },
   {
    "duration": 19,
    "start_time": "2023-11-27T20:03:08.894Z"
   },
   {
    "duration": 5084,
    "start_time": "2023-11-29T17:49:39.884Z"
   },
   {
    "duration": 30,
    "start_time": "2023-11-29T17:49:44.969Z"
   },
   {
    "duration": 4234,
    "start_time": "2023-11-29T17:52:38.945Z"
   },
   {
    "duration": 19,
    "start_time": "2023-11-29T17:52:43.181Z"
   },
   {
    "duration": 4653,
    "start_time": "2023-11-29T17:53:41.980Z"
   },
   {
    "duration": 25,
    "start_time": "2023-11-29T17:53:46.635Z"
   },
   {
    "duration": 2,
    "start_time": "2023-11-29T18:02:42.032Z"
   },
   {
    "duration": 18,
    "start_time": "2023-11-29T18:02:44.144Z"
   },
   {
    "duration": 99,
    "start_time": "2023-11-29T18:03:12.121Z"
   },
   {
    "duration": 761,
    "start_time": "2023-11-29T18:03:20.388Z"
   },
   {
    "duration": 114,
    "start_time": "2023-11-29T18:04:24.022Z"
   },
   {
    "duration": 89,
    "start_time": "2023-11-29T18:04:35.222Z"
   },
   {
    "duration": 3,
    "start_time": "2023-11-29T18:07:36.796Z"
   },
   {
    "duration": 83,
    "start_time": "2023-11-29T18:08:59.259Z"
   },
   {
    "duration": 4,
    "start_time": "2023-11-29T18:09:43.881Z"
   },
   {
    "duration": 141,
    "start_time": "2023-11-29T18:09:54.367Z"
   },
   {
    "duration": 4,
    "start_time": "2023-11-29T18:10:02.843Z"
   },
   {
    "duration": 3,
    "start_time": "2023-11-29T18:11:18.093Z"
   },
   {
    "duration": 84,
    "start_time": "2023-11-29T18:11:25.461Z"
   },
   {
    "duration": 3,
    "start_time": "2023-11-29T18:11:30.422Z"
   },
   {
    "duration": 88,
    "start_time": "2023-11-29T18:11:34.841Z"
   },
   {
    "duration": 96,
    "start_time": "2023-11-29T18:13:17.823Z"
   },
   {
    "duration": 98,
    "start_time": "2023-11-29T18:14:44.336Z"
   },
   {
    "duration": 2,
    "start_time": "2023-11-29T18:15:50.934Z"
   },
   {
    "duration": 19,
    "start_time": "2023-11-29T18:15:55.195Z"
   },
   {
    "duration": 1306,
    "start_time": "2023-11-29T18:17:02.543Z"
   },
   {
    "duration": 0,
    "start_time": "2023-11-29T18:17:03.851Z"
   },
   {
    "duration": 0,
    "start_time": "2023-11-29T18:17:03.852Z"
   },
   {
    "duration": 0,
    "start_time": "2023-11-29T18:17:03.853Z"
   },
   {
    "duration": 0,
    "start_time": "2023-11-29T18:17:03.854Z"
   },
   {
    "duration": 589,
    "start_time": "2023-11-29T18:17:48.329Z"
   },
   {
    "duration": 63,
    "start_time": "2023-11-29T18:17:48.920Z"
   },
   {
    "duration": 0,
    "start_time": "2023-11-29T18:17:48.985Z"
   },
   {
    "duration": 0,
    "start_time": "2023-11-29T18:17:48.986Z"
   },
   {
    "duration": 0,
    "start_time": "2023-11-29T18:17:48.987Z"
   },
   {
    "duration": 78,
    "start_time": "2023-11-29T18:18:12.724Z"
   },
   {
    "duration": 101,
    "start_time": "2023-11-29T18:18:15.747Z"
   },
   {
    "duration": 686,
    "start_time": "2023-11-29T18:18:29.265Z"
   },
   {
    "duration": 7,
    "start_time": "2023-11-29T18:18:33.784Z"
   },
   {
    "duration": 4307,
    "start_time": "2023-11-29T18:18:55.590Z"
   },
   {
    "duration": 39,
    "start_time": "2023-11-29T18:18:59.899Z"
   },
   {
    "duration": 714,
    "start_time": "2023-11-29T18:19:07.128Z"
   },
   {
    "duration": 3,
    "start_time": "2023-11-29T18:19:14.744Z"
   },
   {
    "duration": 92,
    "start_time": "2023-11-29T18:19:19.335Z"
   },
   {
    "duration": 18,
    "start_time": "2023-11-29T18:19:22.815Z"
   },
   {
    "duration": 4739,
    "start_time": "2023-11-29T18:19:50.830Z"
   },
   {
    "duration": 25,
    "start_time": "2023-11-29T18:19:55.571Z"
   },
   {
    "duration": 4,
    "start_time": "2023-11-29T18:23:46.847Z"
   },
   {
    "duration": 3,
    "start_time": "2023-11-29T18:25:20.548Z"
   },
   {
    "duration": 3,
    "start_time": "2023-11-29T18:25:27.343Z"
   },
   {
    "duration": 101,
    "start_time": "2023-11-29T18:25:36.297Z"
   },
   {
    "duration": 88,
    "start_time": "2023-11-29T18:25:42.382Z"
   },
   {
    "duration": 90,
    "start_time": "2023-11-29T18:25:51.535Z"
   },
   {
    "duration": 4702,
    "start_time": "2023-11-29T18:27:35.640Z"
   },
   {
    "duration": 24,
    "start_time": "2023-11-29T18:27:40.344Z"
   },
   {
    "duration": 84,
    "start_time": "2023-11-29T18:27:40.370Z"
   },
   {
    "duration": 876,
    "start_time": "2023-11-29T18:35:01.330Z"
   },
   {
    "duration": 4250,
    "start_time": "2023-11-29T18:35:47.173Z"
   },
   {
    "duration": 102,
    "start_time": "2023-11-29T18:35:51.424Z"
   },
   {
    "duration": 707,
    "start_time": "2023-11-29T18:36:48.081Z"
   },
   {
    "duration": 5,
    "start_time": "2023-11-29T18:37:01.095Z"
   },
   {
    "duration": 24,
    "start_time": "2023-11-29T18:37:10.446Z"
   },
   {
    "duration": 4759,
    "start_time": "2023-11-29T18:47:47.742Z"
   },
   {
    "duration": 32,
    "start_time": "2023-11-29T18:47:52.503Z"
   },
   {
    "duration": 88,
    "start_time": "2023-11-29T18:47:52.537Z"
   },
   {
    "duration": 0,
    "start_time": "2023-11-29T18:47:52.627Z"
   },
   {
    "duration": 20,
    "start_time": "2023-11-29T18:48:03.886Z"
   },
   {
    "duration": 3805,
    "start_time": "2023-11-29T18:53:11.903Z"
   },
   {
    "duration": 16,
    "start_time": "2023-11-29T18:53:27.181Z"
   },
   {
    "duration": 519,
    "start_time": "2023-11-29T18:53:51.093Z"
   },
   {
    "duration": 3671,
    "start_time": "2023-11-29T18:54:24.155Z"
   },
   {
    "duration": 16,
    "start_time": "2023-11-29T18:54:27.828Z"
   },
   {
    "duration": 3755,
    "start_time": "2023-11-29T18:54:41.814Z"
   },
   {
    "duration": 19,
    "start_time": "2023-11-29T18:54:45.571Z"
   },
   {
    "duration": 746,
    "start_time": "2023-11-29T18:57:10.483Z"
   },
   {
    "duration": 747,
    "start_time": "2023-11-29T18:58:01.607Z"
   },
   {
    "duration": 733,
    "start_time": "2023-11-29T18:58:33.330Z"
   },
   {
    "duration": 734,
    "start_time": "2023-11-29T19:00:21.329Z"
   },
   {
    "duration": 735,
    "start_time": "2023-11-29T19:03:00.073Z"
   },
   {
    "duration": 759,
    "start_time": "2023-11-29T19:04:12.420Z"
   },
   {
    "duration": 3706,
    "start_time": "2023-11-29T19:04:34.746Z"
   },
   {
    "duration": 3,
    "start_time": "2023-11-29T19:04:39.349Z"
   },
   {
    "duration": 17,
    "start_time": "2023-11-29T19:04:46.063Z"
   },
   {
    "duration": 3,
    "start_time": "2023-11-29T19:05:06.273Z"
   },
   {
    "duration": 18,
    "start_time": "2023-11-29T19:05:10.385Z"
   },
   {
    "duration": 749,
    "start_time": "2023-11-29T19:05:31.454Z"
   },
   {
    "duration": 1373,
    "start_time": "2023-11-29T19:05:51.291Z"
   },
   {
    "duration": 0,
    "start_time": "2023-11-29T19:05:52.666Z"
   },
   {
    "duration": 0,
    "start_time": "2023-11-29T19:05:52.667Z"
   },
   {
    "duration": 773,
    "start_time": "2023-11-29T19:06:39.989Z"
   },
   {
    "duration": 731,
    "start_time": "2023-11-29T19:06:55.336Z"
   },
   {
    "duration": 463,
    "start_time": "2023-11-29T19:07:43.572Z"
   },
   {
    "duration": 478,
    "start_time": "2023-11-29T19:09:18.739Z"
   },
   {
    "duration": 459,
    "start_time": "2023-11-29T19:09:52.447Z"
   },
   {
    "duration": 486,
    "start_time": "2023-11-29T19:10:23.720Z"
   },
   {
    "duration": 3902,
    "start_time": "2023-11-29T19:10:33.136Z"
   },
   {
    "duration": 3,
    "start_time": "2023-11-29T19:10:37.887Z"
   },
   {
    "duration": 24,
    "start_time": "2023-11-29T19:10:40.138Z"
   },
   {
    "duration": 728,
    "start_time": "2023-11-29T19:14:39.503Z"
   },
   {
    "duration": 746,
    "start_time": "2023-11-29T19:15:16.217Z"
   },
   {
    "duration": 784,
    "start_time": "2023-11-29T19:17:37.125Z"
   },
   {
    "duration": 750,
    "start_time": "2023-11-29T19:17:47.854Z"
   },
   {
    "duration": 3963,
    "start_time": "2023-11-29T19:19:25.625Z"
   },
   {
    "duration": 19,
    "start_time": "2023-11-29T19:19:29.715Z"
   },
   {
    "duration": 766,
    "start_time": "2023-11-29T19:22:20.521Z"
   },
   {
    "duration": 1342,
    "start_time": "2023-11-29T19:49:11.759Z"
   },
   {
    "duration": 7,
    "start_time": "2023-11-29T19:49:16.831Z"
   },
   {
    "duration": 4097,
    "start_time": "2023-11-29T19:50:10.757Z"
   },
   {
    "duration": 7,
    "start_time": "2023-11-29T19:50:14.856Z"
   },
   {
    "duration": 4057,
    "start_time": "2023-11-29T19:50:22.536Z"
   },
   {
    "duration": 27,
    "start_time": "2023-11-29T19:50:26.594Z"
   },
   {
    "duration": 605,
    "start_time": "2023-11-29T19:51:33.786Z"
   },
   {
    "duration": 6779,
    "start_time": "2023-11-29T19:52:06.213Z"
   },
   {
    "duration": 750,
    "start_time": "2023-11-29T19:52:12.994Z"
   },
   {
    "duration": 10762,
    "start_time": "2023-11-29T19:52:56.138Z"
   },
   {
    "duration": 18,
    "start_time": "2023-11-29T19:53:15.521Z"
   },
   {
    "duration": 8169,
    "start_time": "2023-11-29T19:55:38.597Z"
   },
   {
    "duration": 969,
    "start_time": "2023-11-29T19:55:51.636Z"
   },
   {
    "duration": 8977,
    "start_time": "2023-11-29T19:56:42.794Z"
   },
   {
    "duration": 1084,
    "start_time": "2023-11-29T19:56:51.773Z"
   },
   {
    "duration": 548,
    "start_time": "2023-11-29T20:00:32.249Z"
   },
   {
    "duration": 4,
    "start_time": "2023-11-29T20:00:55.254Z"
   },
   {
    "duration": 197,
    "start_time": "2023-11-29T20:02:55.247Z"
   },
   {
    "duration": 106,
    "start_time": "2023-11-29T20:04:34.969Z"
   },
   {
    "duration": 517,
    "start_time": "2023-11-29T20:05:18.837Z"
   },
   {
    "duration": 1553,
    "start_time": "2023-11-29T20:07:20.496Z"
   },
   {
    "duration": 9871,
    "start_time": "2023-11-29T20:13:00.161Z"
   },
   {
    "duration": 1128,
    "start_time": "2023-11-29T20:13:10.034Z"
   },
   {
    "duration": 596,
    "start_time": "2023-11-29T20:13:11.164Z"
   },
   {
    "duration": 4,
    "start_time": "2023-11-29T20:13:11.761Z"
   },
   {
    "duration": 0,
    "start_time": "2023-11-29T20:13:11.767Z"
   },
   {
    "duration": 0,
    "start_time": "2023-11-29T20:13:11.768Z"
   },
   {
    "duration": 0,
    "start_time": "2023-11-29T20:13:11.769Z"
   },
   {
    "duration": 3,
    "start_time": "2023-11-29T20:15:28.118Z"
   },
   {
    "duration": 201,
    "start_time": "2023-11-29T20:15:30.380Z"
   },
   {
    "duration": 516,
    "start_time": "2023-11-29T20:15:32.679Z"
   },
   {
    "duration": 216,
    "start_time": "2023-11-29T20:17:57.936Z"
   },
   {
    "duration": 22,
    "start_time": "2023-11-29T20:18:22.968Z"
   },
   {
    "duration": 1435,
    "start_time": "2023-11-29T20:18:44.542Z"
   },
   {
    "duration": 937,
    "start_time": "2023-11-29T20:24:15.908Z"
   },
   {
    "duration": 116,
    "start_time": "2023-11-29T20:25:16.258Z"
   },
   {
    "duration": 143,
    "start_time": "2023-11-29T20:25:30.705Z"
   },
   {
    "duration": 1572,
    "start_time": "2023-11-29T20:27:10.843Z"
   },
   {
    "duration": 9475,
    "start_time": "2023-11-29T20:36:26.608Z"
   },
   {
    "duration": 1146,
    "start_time": "2023-11-29T20:36:36.086Z"
   },
   {
    "duration": 604,
    "start_time": "2023-11-29T20:36:37.234Z"
   },
   {
    "duration": 2,
    "start_time": "2023-11-29T20:36:37.840Z"
   },
   {
    "duration": 227,
    "start_time": "2023-11-29T20:36:37.843Z"
   },
   {
    "duration": 539,
    "start_time": "2023-11-29T20:36:38.071Z"
   },
   {
    "duration": 180,
    "start_time": "2023-11-29T20:36:38.612Z"
   },
   {
    "duration": 32,
    "start_time": "2023-11-29T20:36:38.793Z"
   },
   {
    "duration": 852,
    "start_time": "2023-11-29T20:36:38.830Z"
   },
   {
    "duration": 1455,
    "start_time": "2023-11-29T20:36:39.684Z"
   },
   {
    "duration": 116,
    "start_time": "2023-11-29T20:36:41.141Z"
   },
   {
    "duration": 130,
    "start_time": "2023-11-29T20:36:41.259Z"
   },
   {
    "duration": 1647,
    "start_time": "2023-11-29T20:36:41.390Z"
   },
   {
    "duration": 121,
    "start_time": "2023-11-29T20:36:43.039Z"
   },
   {
    "duration": 412,
    "start_time": "2023-11-29T20:36:43.162Z"
   },
   {
    "duration": 2841,
    "start_time": "2023-11-29T20:39:14.407Z"
   },
   {
    "duration": 116,
    "start_time": "2023-11-29T20:39:19.195Z"
   },
   {
    "duration": 538,
    "start_time": "2023-11-29T20:41:34.103Z"
   },
   {
    "duration": 9744,
    "start_time": "2023-11-29T20:43:24.337Z"
   },
   {
    "duration": 1168,
    "start_time": "2023-11-29T20:43:34.083Z"
   },
   {
    "duration": 600,
    "start_time": "2023-11-29T20:43:35.253Z"
   },
   {
    "duration": 3,
    "start_time": "2023-11-29T20:43:35.856Z"
   },
   {
    "duration": 221,
    "start_time": "2023-11-29T20:43:35.860Z"
   },
   {
    "duration": 556,
    "start_time": "2023-11-29T20:43:36.082Z"
   },
   {
    "duration": 3,
    "start_time": "2023-11-29T20:43:36.639Z"
   },
   {
    "duration": 1160,
    "start_time": "2023-11-29T20:43:36.643Z"
   },
   {
    "duration": 2,
    "start_time": "2023-11-29T20:43:37.806Z"
   },
   {
    "duration": 1635,
    "start_time": "2023-11-29T20:43:37.811Z"
   },
   {
    "duration": 106,
    "start_time": "2023-11-29T20:43:39.448Z"
   },
   {
    "duration": 136,
    "start_time": "2023-11-29T20:43:39.556Z"
   },
   {
    "duration": 3159,
    "start_time": "2023-11-29T20:43:39.693Z"
   },
   {
    "duration": 137,
    "start_time": "2023-11-29T20:43:42.854Z"
   },
   {
    "duration": 552,
    "start_time": "2023-11-29T20:43:42.993Z"
   },
   {
    "duration": 174,
    "start_time": "2023-11-29T20:46:28.072Z"
   },
   {
    "duration": 31,
    "start_time": "2023-11-29T20:46:30.206Z"
   },
   {
    "duration": 6964,
    "start_time": "2023-11-29T20:48:15.858Z"
   },
   {
    "duration": 28,
    "start_time": "2023-11-29T20:48:22.824Z"
   },
   {
    "duration": 568,
    "start_time": "2023-11-29T20:48:22.854Z"
   },
   {
    "duration": 2,
    "start_time": "2023-11-29T20:48:23.424Z"
   },
   {
    "duration": 203,
    "start_time": "2023-11-29T20:48:23.431Z"
   },
   {
    "duration": 541,
    "start_time": "2023-11-29T20:48:23.635Z"
   },
   {
    "duration": 186,
    "start_time": "2023-11-29T20:48:24.179Z"
   },
   {
    "duration": 26,
    "start_time": "2023-11-29T20:48:24.367Z"
   },
   {
    "duration": 10,
    "start_time": "2023-11-29T20:48:24.396Z"
   },
   {
    "duration": 1478,
    "start_time": "2023-11-29T20:48:24.408Z"
   },
   {
    "duration": 88,
    "start_time": "2023-11-29T20:48:25.888Z"
   },
   {
    "duration": 106,
    "start_time": "2023-11-29T20:48:25.977Z"
   },
   {
    "duration": 3019,
    "start_time": "2023-11-29T20:48:26.085Z"
   },
   {
    "duration": 103,
    "start_time": "2023-11-29T20:48:29.107Z"
   },
   {
    "duration": 540,
    "start_time": "2023-11-29T20:48:29.211Z"
   },
   {
    "duration": 7066,
    "start_time": "2023-12-02T07:58:00.915Z"
   },
   {
    "duration": 28,
    "start_time": "2023-12-02T07:58:07.983Z"
   },
   {
    "duration": 509,
    "start_time": "2023-12-02T07:58:08.013Z"
   },
   {
    "duration": 3,
    "start_time": "2023-12-02T07:58:08.524Z"
   },
   {
    "duration": 190,
    "start_time": "2023-12-02T07:58:08.529Z"
   },
   {
    "duration": 496,
    "start_time": "2023-12-02T07:58:08.721Z"
   },
   {
    "duration": 145,
    "start_time": "2023-12-02T07:58:09.218Z"
   },
   {
    "duration": 49,
    "start_time": "2023-12-02T07:58:09.366Z"
   },
   {
    "duration": 1279,
    "start_time": "2023-12-02T07:58:09.416Z"
   },
   {
    "duration": 77,
    "start_time": "2023-12-02T07:58:10.697Z"
   },
   {
    "duration": 122,
    "start_time": "2023-12-02T07:58:10.776Z"
   },
   {
    "duration": 2984,
    "start_time": "2023-12-02T07:58:10.899Z"
   },
   {
    "duration": 109,
    "start_time": "2023-12-02T07:58:13.885Z"
   },
   {
    "duration": 543,
    "start_time": "2023-12-02T07:58:13.996Z"
   },
   {
    "duration": 6291,
    "start_time": "2023-12-02T08:05:00.705Z"
   },
   {
    "duration": 27,
    "start_time": "2023-12-02T08:05:06.998Z"
   },
   {
    "duration": 418,
    "start_time": "2023-12-02T08:05:07.026Z"
   },
   {
    "duration": 151,
    "start_time": "2023-12-02T08:05:07.446Z"
   },
   {
    "duration": 408,
    "start_time": "2023-12-02T08:05:07.599Z"
   },
   {
    "duration": 129,
    "start_time": "2023-12-02T08:05:08.009Z"
   },
   {
    "duration": 32,
    "start_time": "2023-12-02T08:05:08.139Z"
   },
   {
    "duration": 1164,
    "start_time": "2023-12-02T08:05:08.172Z"
   },
   {
    "duration": 66,
    "start_time": "2023-12-02T08:05:09.338Z"
   },
   {
    "duration": 114,
    "start_time": "2023-12-02T08:05:09.406Z"
   },
   {
    "duration": 2679,
    "start_time": "2023-12-02T08:05:09.521Z"
   },
   {
    "duration": 86,
    "start_time": "2023-12-02T08:05:12.202Z"
   },
   {
    "duration": 416,
    "start_time": "2023-12-02T08:05:12.289Z"
   },
   {
    "duration": 408,
    "start_time": "2023-12-02T08:05:42.957Z"
   },
   {
    "duration": 6740,
    "start_time": "2023-12-04T16:59:36.184Z"
   },
   {
    "duration": 29,
    "start_time": "2023-12-04T16:59:42.925Z"
   },
   {
    "duration": 427,
    "start_time": "2023-12-04T16:59:42.956Z"
   },
   {
    "duration": 172,
    "start_time": "2023-12-04T16:59:43.386Z"
   },
   {
    "duration": 421,
    "start_time": "2023-12-04T16:59:43.559Z"
   },
   {
    "duration": 142,
    "start_time": "2023-12-04T16:59:43.981Z"
   },
   {
    "duration": 37,
    "start_time": "2023-12-04T16:59:44.125Z"
   },
   {
    "duration": 1213,
    "start_time": "2023-12-04T16:59:44.164Z"
   },
   {
    "duration": 66,
    "start_time": "2023-12-04T16:59:45.378Z"
   },
   {
    "duration": 88,
    "start_time": "2023-12-04T16:59:45.446Z"
   },
   {
    "duration": 2809,
    "start_time": "2023-12-04T16:59:45.536Z"
   },
   {
    "duration": 85,
    "start_time": "2023-12-04T16:59:48.346Z"
   },
   {
    "duration": 9,
    "start_time": "2023-12-04T17:00:20.900Z"
   },
   {
    "duration": 6528,
    "start_time": "2023-12-04T17:03:22.561Z"
   },
   {
    "duration": 30,
    "start_time": "2023-12-04T17:03:29.091Z"
   },
   {
    "duration": 7040,
    "start_time": "2023-12-04T17:04:16.787Z"
   },
   {
    "duration": 26,
    "start_time": "2023-12-04T17:04:23.829Z"
   },
   {
    "duration": 504,
    "start_time": "2023-12-04T17:04:23.856Z"
   },
   {
    "duration": 171,
    "start_time": "2023-12-04T17:04:24.361Z"
   },
   {
    "duration": 486,
    "start_time": "2023-12-04T17:04:24.533Z"
   },
   {
    "duration": 155,
    "start_time": "2023-12-04T17:04:25.020Z"
   },
   {
    "duration": 47,
    "start_time": "2023-12-04T17:04:25.176Z"
   },
   {
    "duration": 1347,
    "start_time": "2023-12-04T17:04:25.224Z"
   },
   {
    "duration": 102,
    "start_time": "2023-12-04T17:04:26.573Z"
   },
   {
    "duration": 119,
    "start_time": "2023-12-04T17:04:26.676Z"
   },
   {
    "duration": 2964,
    "start_time": "2023-12-04T17:04:26.799Z"
   },
   {
    "duration": 116,
    "start_time": "2023-12-04T17:04:29.764Z"
   },
   {
    "duration": 84,
    "start_time": "2023-12-04T17:04:29.881Z"
   },
   {
    "duration": 6936,
    "start_time": "2023-12-04T17:08:32.721Z"
   },
   {
    "duration": 33,
    "start_time": "2023-12-04T17:08:39.659Z"
   },
   {
    "duration": 548,
    "start_time": "2023-12-04T17:08:39.699Z"
   },
   {
    "duration": 172,
    "start_time": "2023-12-04T17:08:40.248Z"
   },
   {
    "duration": 523,
    "start_time": "2023-12-04T17:08:40.422Z"
   },
   {
    "duration": 153,
    "start_time": "2023-12-04T17:08:40.946Z"
   },
   {
    "duration": 19,
    "start_time": "2023-12-04T17:08:41.100Z"
   },
   {
    "duration": 1369,
    "start_time": "2023-12-04T17:08:41.121Z"
   },
   {
    "duration": 86,
    "start_time": "2023-12-04T17:08:42.492Z"
   },
   {
    "duration": 111,
    "start_time": "2023-12-04T17:08:42.579Z"
   },
   {
    "duration": 2985,
    "start_time": "2023-12-04T17:08:42.699Z"
   },
   {
    "duration": 124,
    "start_time": "2023-12-04T17:08:45.686Z"
   },
   {
    "duration": 91,
    "start_time": "2023-12-04T17:08:45.812Z"
   },
   {
    "duration": 6944,
    "start_time": "2023-12-04T17:08:52.537Z"
   },
   {
    "duration": 29,
    "start_time": "2023-12-04T17:08:59.482Z"
   },
   {
    "duration": 511,
    "start_time": "2023-12-04T17:08:59.513Z"
   },
   {
    "duration": 180,
    "start_time": "2023-12-04T17:09:00.026Z"
   },
   {
    "duration": 510,
    "start_time": "2023-12-04T17:09:00.207Z"
   },
   {
    "duration": 154,
    "start_time": "2023-12-04T17:09:00.718Z"
   },
   {
    "duration": 61,
    "start_time": "2023-12-04T17:09:00.874Z"
   },
   {
    "duration": 1419,
    "start_time": "2023-12-04T17:09:00.937Z"
   },
   {
    "duration": 103,
    "start_time": "2023-12-04T17:09:02.357Z"
   },
   {
    "duration": 115,
    "start_time": "2023-12-04T17:09:02.462Z"
   },
   {
    "duration": 2958,
    "start_time": "2023-12-04T17:09:02.579Z"
   },
   {
    "duration": 107,
    "start_time": "2023-12-04T17:09:05.539Z"
   },
   {
    "duration": 96,
    "start_time": "2023-12-04T17:09:05.648Z"
   },
   {
    "duration": 450,
    "start_time": "2023-12-04T17:14:11.235Z"
   },
   {
    "duration": 6392,
    "start_time": "2023-12-04T17:14:16.420Z"
   },
   {
    "duration": 23,
    "start_time": "2023-12-04T17:14:22.814Z"
   },
   {
    "duration": 6616,
    "start_time": "2023-12-04T17:19:24.110Z"
   },
   {
    "duration": 23,
    "start_time": "2023-12-04T17:19:30.728Z"
   },
   {
    "duration": 6454,
    "start_time": "2023-12-04T17:19:45.482Z"
   },
   {
    "duration": 21,
    "start_time": "2023-12-04T17:19:51.938Z"
   },
   {
    "duration": 547,
    "start_time": "2023-12-04T17:20:12.339Z"
   },
   {
    "duration": 255,
    "start_time": "2023-12-04T17:20:28.565Z"
   },
   {
    "duration": 533,
    "start_time": "2023-12-04T17:20:31.052Z"
   },
   {
    "duration": 153,
    "start_time": "2023-12-04T17:20:34.075Z"
   },
   {
    "duration": 24,
    "start_time": "2023-12-04T17:20:35.697Z"
   },
   {
    "duration": 1281,
    "start_time": "2023-12-04T17:20:44.865Z"
   },
   {
    "duration": 72,
    "start_time": "2023-12-04T17:20:47.096Z"
   },
   {
    "duration": 91,
    "start_time": "2023-12-04T17:20:49.145Z"
   },
   {
    "duration": 2920,
    "start_time": "2023-12-04T17:20:52.190Z"
   },
   {
    "duration": 85,
    "start_time": "2023-12-04T17:20:55.722Z"
   },
   {
    "duration": 9,
    "start_time": "2023-12-04T17:20:59.265Z"
   },
   {
    "duration": 231,
    "start_time": "2023-12-04T17:21:08.042Z"
   },
   {
    "duration": 4,
    "start_time": "2023-12-04T17:26:59.976Z"
   },
   {
    "duration": 21,
    "start_time": "2023-12-04T17:27:14.475Z"
   },
   {
    "duration": 12,
    "start_time": "2023-12-04T17:28:21.647Z"
   },
   {
    "duration": 11,
    "start_time": "2023-12-04T17:28:39.287Z"
   },
   {
    "duration": 8,
    "start_time": "2023-12-04T17:30:07.638Z"
   },
   {
    "duration": 8,
    "start_time": "2023-12-04T17:30:38.507Z"
   },
   {
    "duration": 9,
    "start_time": "2023-12-04T17:30:50.731Z"
   },
   {
    "duration": 12,
    "start_time": "2023-12-04T17:31:39.121Z"
   },
   {
    "duration": 11,
    "start_time": "2023-12-04T17:33:59.450Z"
   },
   {
    "duration": 2397,
    "start_time": "2023-12-04T17:34:11.795Z"
   },
   {
    "duration": 26,
    "start_time": "2023-12-04T17:34:15.674Z"
   },
   {
    "duration": 7149,
    "start_time": "2023-12-04T17:34:28.807Z"
   },
   {
    "duration": 28,
    "start_time": "2023-12-04T17:34:35.958Z"
   },
   {
    "duration": 511,
    "start_time": "2023-12-04T17:34:35.988Z"
   },
   {
    "duration": 2,
    "start_time": "2023-12-04T17:34:36.501Z"
   },
   {
    "duration": 511,
    "start_time": "2023-12-04T17:34:36.505Z"
   },
   {
    "duration": 151,
    "start_time": "2023-12-04T17:34:37.017Z"
   },
   {
    "duration": 31,
    "start_time": "2023-12-04T17:34:37.169Z"
   },
   {
    "duration": 1315,
    "start_time": "2023-12-04T17:34:37.201Z"
   },
   {
    "duration": 83,
    "start_time": "2023-12-04T17:34:38.517Z"
   },
   {
    "duration": 87,
    "start_time": "2023-12-04T17:34:38.601Z"
   },
   {
    "duration": 2856,
    "start_time": "2023-12-04T17:34:38.699Z"
   },
   {
    "duration": 88,
    "start_time": "2023-12-04T17:34:41.556Z"
   },
   {
    "duration": 9,
    "start_time": "2023-12-04T17:34:41.645Z"
   },
   {
    "duration": 2573,
    "start_time": "2023-12-04T17:34:41.656Z"
   },
   {
    "duration": 20,
    "start_time": "2023-12-04T17:34:44.231Z"
   },
   {
    "duration": 7113,
    "start_time": "2023-12-04T17:35:07.862Z"
   },
   {
    "duration": 32,
    "start_time": "2023-12-04T17:35:14.976Z"
   },
   {
    "duration": 501,
    "start_time": "2023-12-04T17:35:15.010Z"
   },
   {
    "duration": 2,
    "start_time": "2023-12-04T17:35:15.512Z"
   },
   {
    "duration": 518,
    "start_time": "2023-12-04T17:35:15.516Z"
   },
   {
    "duration": 148,
    "start_time": "2023-12-04T17:35:16.035Z"
   },
   {
    "duration": 34,
    "start_time": "2023-12-04T17:35:16.184Z"
   },
   {
    "duration": 1349,
    "start_time": "2023-12-04T17:35:16.220Z"
   },
   {
    "duration": 77,
    "start_time": "2023-12-04T17:35:17.571Z"
   },
   {
    "duration": 90,
    "start_time": "2023-12-04T17:35:17.650Z"
   },
   {
    "duration": 2853,
    "start_time": "2023-12-04T17:35:17.742Z"
   },
   {
    "duration": 91,
    "start_time": "2023-12-04T17:35:20.598Z"
   },
   {
    "duration": 9,
    "start_time": "2023-12-04T17:35:20.698Z"
   },
   {
    "duration": 2409,
    "start_time": "2023-12-04T17:35:20.709Z"
   },
   {
    "duration": 20,
    "start_time": "2023-12-04T17:35:23.119Z"
   },
   {
    "duration": 7028,
    "start_time": "2023-12-04T18:13:22.819Z"
   },
   {
    "duration": 29,
    "start_time": "2023-12-04T18:13:29.848Z"
   },
   {
    "duration": 533,
    "start_time": "2023-12-04T18:13:29.878Z"
   },
   {
    "duration": 2,
    "start_time": "2023-12-04T18:13:30.413Z"
   },
   {
    "duration": 524,
    "start_time": "2023-12-04T18:13:30.416Z"
   },
   {
    "duration": 161,
    "start_time": "2023-12-04T18:13:30.941Z"
   },
   {
    "duration": 58,
    "start_time": "2023-12-04T18:13:31.104Z"
   },
   {
    "duration": 1380,
    "start_time": "2023-12-04T18:13:31.163Z"
   },
   {
    "duration": 77,
    "start_time": "2023-12-04T18:13:32.545Z"
   },
   {
    "duration": 95,
    "start_time": "2023-12-04T18:13:32.624Z"
   },
   {
    "duration": 2873,
    "start_time": "2023-12-04T18:13:32.720Z"
   },
   {
    "duration": 86,
    "start_time": "2023-12-04T18:13:35.594Z"
   },
   {
    "duration": 20,
    "start_time": "2023-12-04T18:13:35.681Z"
   },
   {
    "duration": 2576,
    "start_time": "2023-12-04T18:13:35.703Z"
   },
   {
    "duration": 29,
    "start_time": "2023-12-04T18:13:38.280Z"
   },
   {
    "duration": 2596,
    "start_time": "2023-12-04T18:17:56.392Z"
   },
   {
    "duration": 7614,
    "start_time": "2023-12-06T18:15:57.818Z"
   },
   {
    "duration": 30,
    "start_time": "2023-12-06T18:16:05.434Z"
   },
   {
    "duration": 449,
    "start_time": "2023-12-06T18:16:05.473Z"
   },
   {
    "duration": 442,
    "start_time": "2023-12-06T18:16:05.924Z"
   },
   {
    "duration": 148,
    "start_time": "2023-12-06T18:16:06.374Z"
   },
   {
    "duration": 1270,
    "start_time": "2023-12-06T18:16:06.523Z"
   },
   {
    "duration": 67,
    "start_time": "2023-12-06T18:16:07.795Z"
   },
   {
    "duration": 95,
    "start_time": "2023-12-06T18:16:07.863Z"
   },
   {
    "duration": 2919,
    "start_time": "2023-12-06T18:16:07.959Z"
   },
   {
    "duration": 77,
    "start_time": "2023-12-06T18:16:10.880Z"
   },
   {
    "duration": 21,
    "start_time": "2023-12-06T18:16:10.959Z"
   },
   {
    "duration": 2334,
    "start_time": "2023-12-06T18:16:10.982Z"
   },
   {
    "duration": 21,
    "start_time": "2023-12-06T18:16:13.317Z"
   },
   {
    "duration": 56,
    "start_time": "2023-12-06T18:19:19.441Z"
   },
   {
    "duration": 49,
    "start_time": "2023-12-06T18:19:35.670Z"
   },
   {
    "duration": 4602,
    "start_time": "2023-12-06T18:20:29.085Z"
   },
   {
    "duration": 4454,
    "start_time": "2023-12-06T18:21:05.175Z"
   },
   {
    "duration": 4378,
    "start_time": "2023-12-06T18:26:56.324Z"
   },
   {
    "duration": 46,
    "start_time": "2023-12-06T18:27:51.013Z"
   },
   {
    "duration": 4289,
    "start_time": "2023-12-06T18:28:30.194Z"
   },
   {
    "duration": 4280,
    "start_time": "2023-12-06T18:29:13.097Z"
   },
   {
    "duration": 60,
    "start_time": "2023-12-06T18:33:23.775Z"
   },
   {
    "duration": 4113,
    "start_time": "2023-12-06T18:38:46.046Z"
   },
   {
    "duration": 7494,
    "start_time": "2023-12-06T19:26:10.246Z"
   },
   {
    "duration": 35,
    "start_time": "2023-12-06T19:26:17.743Z"
   },
   {
    "duration": 582,
    "start_time": "2023-12-06T19:26:27.093Z"
   },
   {
    "duration": 570,
    "start_time": "2023-12-06T19:26:29.134Z"
   },
   {
    "duration": 173,
    "start_time": "2023-12-06T19:26:32.007Z"
   },
   {
    "duration": 1476,
    "start_time": "2023-12-06T19:26:33.848Z"
   },
   {
    "duration": 82,
    "start_time": "2023-12-06T19:26:35.963Z"
   },
   {
    "duration": 89,
    "start_time": "2023-12-06T19:26:37.796Z"
   },
   {
    "duration": 3104,
    "start_time": "2023-12-06T19:26:39.230Z"
   },
   {
    "duration": 102,
    "start_time": "2023-12-06T19:26:42.336Z"
   },
   {
    "duration": 88,
    "start_time": "2023-12-06T19:26:44.203Z"
   },
   {
    "duration": 9,
    "start_time": "2023-12-06T19:26:45.966Z"
   },
   {
    "duration": 2986,
    "start_time": "2023-12-06T19:26:47.801Z"
   },
   {
    "duration": 23,
    "start_time": "2023-12-06T19:26:52.839Z"
   },
   {
    "duration": 4863,
    "start_time": "2023-12-06T19:26:55.246Z"
   }
  ],
  "kernelspec": {
   "display_name": "Python 3 (ipykernel)",
   "language": "python",
   "name": "python3"
  },
  "language_info": {
   "codemirror_mode": {
    "name": "ipython",
    "version": 3
   },
   "file_extension": ".py",
   "mimetype": "text/x-python",
   "name": "python",
   "nbconvert_exporter": "python",
   "pygments_lexer": "ipython3",
   "version": "3.9.5"
  },
  "toc": {
   "base_numbering": 1,
   "nav_menu": {},
   "number_sections": true,
   "sideBar": true,
   "skip_h1_title": true,
   "title_cell": "Table of Contents",
   "title_sidebar": "Contents",
   "toc_cell": false,
   "toc_position": {},
   "toc_section_display": true,
   "toc_window_display": false
  }
 },
 "nbformat": 4,
 "nbformat_minor": 5
}
